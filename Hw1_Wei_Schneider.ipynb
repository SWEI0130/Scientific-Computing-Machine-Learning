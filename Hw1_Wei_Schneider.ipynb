{
 "cells": [
  {
   "cell_type": "markdown",
   "metadata": {},
   "source": [
    "# ME:4111 Scientific Computing and Machine Learning \n",
    "# Lecture 2: Python Programming - Pandas\n",
    "# by Prof. Shaoping Xiao"
   ]
  },
  {
   "cell_type": "markdown",
   "metadata": {},
   "source": [
    "### Import pandas library "
   ]
  },
  {
   "cell_type": "code",
   "execution_count": 1,
   "metadata": {},
   "outputs": [],
   "source": [
    "import pandas as pd"
   ]
  },
  {
   "cell_type": "markdown",
   "metadata": {},
   "source": [
    "### import our datafile mpg.csv, which contains fuel economy data for 234 cars.\n",
    "##### mpg : miles per gallon;\n",
    "##### class : car classification;\n",
    "##### cty : city mpg;\n",
    "##### cyl : # of cylinders;\n",
    "##### displ : engine displacement in liters;\n",
    "##### drv : f = front-wheel drive, r = rear wheel drive, 4 = 4wd;\n",
    "##### fl : fuel (e = ethanol E85, d = diesel, r = regular, p = premium, c = CNG);\n",
    "##### hwy : highway mpg;\n",
    "##### manufacturer : automobile manufacturer;\n",
    "##### model : model of car;\n",
    "##### trans : type of transmission;\n",
    "##### year : model year."
   ]
  },
  {
   "cell_type": "code",
   "execution_count": 4,
   "metadata": {},
   "outputs": [
    {
     "data": {
      "text/html": [
       "<div>\n",
       "<style scoped>\n",
       "    .dataframe tbody tr th:only-of-type {\n",
       "        vertical-align: middle;\n",
       "    }\n",
       "\n",
       "    .dataframe tbody tr th {\n",
       "        vertical-align: top;\n",
       "    }\n",
       "\n",
       "    .dataframe thead th {\n",
       "        text-align: right;\n",
       "    }\n",
       "</style>\n",
       "<table border=\"1\" class=\"dataframe\">\n",
       "  <thead>\n",
       "    <tr style=\"text-align: right;\">\n",
       "      <th></th>\n",
       "      <th>manufacturer</th>\n",
       "      <th>model</th>\n",
       "      <th>displ</th>\n",
       "      <th>year</th>\n",
       "      <th>cyl</th>\n",
       "      <th>trans</th>\n",
       "      <th>drv</th>\n",
       "      <th>cty</th>\n",
       "      <th>hwy</th>\n",
       "      <th>fl</th>\n",
       "      <th>class</th>\n",
       "    </tr>\n",
       "  </thead>\n",
       "  <tbody>\n",
       "    <tr>\n",
       "      <th>0</th>\n",
       "      <td>audi</td>\n",
       "      <td>a4</td>\n",
       "      <td>1.8</td>\n",
       "      <td>1999</td>\n",
       "      <td>4</td>\n",
       "      <td>auto(l5)</td>\n",
       "      <td>f</td>\n",
       "      <td>18</td>\n",
       "      <td>29</td>\n",
       "      <td>p</td>\n",
       "      <td>compact</td>\n",
       "    </tr>\n",
       "    <tr>\n",
       "      <th>1</th>\n",
       "      <td>audi</td>\n",
       "      <td>a4</td>\n",
       "      <td>1.8</td>\n",
       "      <td>1999</td>\n",
       "      <td>4</td>\n",
       "      <td>manual(m5)</td>\n",
       "      <td>f</td>\n",
       "      <td>21</td>\n",
       "      <td>29</td>\n",
       "      <td>p</td>\n",
       "      <td>compact</td>\n",
       "    </tr>\n",
       "    <tr>\n",
       "      <th>2</th>\n",
       "      <td>audi</td>\n",
       "      <td>a4</td>\n",
       "      <td>2.0</td>\n",
       "      <td>2008</td>\n",
       "      <td>4</td>\n",
       "      <td>manual(m6)</td>\n",
       "      <td>f</td>\n",
       "      <td>20</td>\n",
       "      <td>31</td>\n",
       "      <td>p</td>\n",
       "      <td>compact</td>\n",
       "    </tr>\n",
       "    <tr>\n",
       "      <th>3</th>\n",
       "      <td>audi</td>\n",
       "      <td>a4</td>\n",
       "      <td>2.0</td>\n",
       "      <td>2008</td>\n",
       "      <td>4</td>\n",
       "      <td>auto(av)</td>\n",
       "      <td>f</td>\n",
       "      <td>21</td>\n",
       "      <td>30</td>\n",
       "      <td>p</td>\n",
       "      <td>compact</td>\n",
       "    </tr>\n",
       "    <tr>\n",
       "      <th>4</th>\n",
       "      <td>audi</td>\n",
       "      <td>a4</td>\n",
       "      <td>2.8</td>\n",
       "      <td>1999</td>\n",
       "      <td>6</td>\n",
       "      <td>auto(l5)</td>\n",
       "      <td>f</td>\n",
       "      <td>16</td>\n",
       "      <td>26</td>\n",
       "      <td>p</td>\n",
       "      <td>compact</td>\n",
       "    </tr>\n",
       "  </tbody>\n",
       "</table>\n",
       "</div>"
      ],
      "text/plain": [
       "  manufacturer model  displ  year  cyl       trans drv  cty  hwy fl    class\n",
       "0         audi    a4    1.8  1999    4    auto(l5)   f   18   29  p  compact\n",
       "1         audi    a4    1.8  1999    4  manual(m5)   f   21   29  p  compact\n",
       "2         audi    a4    2.0  2008    4  manual(m6)   f   20   31  p  compact\n",
       "3         audi    a4    2.0  2008    4    auto(av)   f   21   30  p  compact\n",
       "4         audi    a4    2.8  1999    6    auto(l5)   f   16   26  p  compact"
      ]
     },
     "execution_count": 4,
     "metadata": {},
     "output_type": "execute_result"
    }
   ],
   "source": [
    "mpg = pd.read_csv('mpg.csv')\n",
    "mpg.head() # show the first five rows"
   ]
  },
  {
   "cell_type": "markdown",
   "metadata": {},
   "source": [
    "###  Basic data information"
   ]
  },
  {
   "cell_type": "code",
   "execution_count": 11,
   "metadata": {},
   "outputs": [
    {
     "name": "stdout",
     "output_type": "stream",
     "text": [
      "0      18\n",
      "1      21\n",
      "2      20\n",
      "3      21\n",
      "4      16\n",
      "5      18\n",
      "6      18\n",
      "7      18\n",
      "8      16\n",
      "9      20\n",
      "10     19\n",
      "11     15\n",
      "12     17\n",
      "13     17\n",
      "14     15\n",
      "15     15\n",
      "16     17\n",
      "17     16\n",
      "18     14\n",
      "19     11\n",
      "20     14\n",
      "21     13\n",
      "22     12\n",
      "23     16\n",
      "24     15\n",
      "25     16\n",
      "26     15\n",
      "27     15\n",
      "28     14\n",
      "29     11\n",
      "       ..\n",
      "204    15\n",
      "205    15\n",
      "206    16\n",
      "207    21\n",
      "208    19\n",
      "209    21\n",
      "210    22\n",
      "211    17\n",
      "212    33\n",
      "213    21\n",
      "214    19\n",
      "215    22\n",
      "216    21\n",
      "217    21\n",
      "218    21\n",
      "219    16\n",
      "220    17\n",
      "221    35\n",
      "222    29\n",
      "223    21\n",
      "224    19\n",
      "225    20\n",
      "226    20\n",
      "227    21\n",
      "228    18\n",
      "229    19\n",
      "230    21\n",
      "231    16\n",
      "232    18\n",
      "233    17\n",
      "Name: cty, Length: 234, dtype: int64\n",
      "21\n",
      "234\n"
     ]
    }
   ],
   "source": [
    "print(mpg['cty'])\n",
    "print(mpg['cty'][1])\n",
    "print(len(mpg))"
   ]
  },
  {
   "cell_type": "markdown",
   "metadata": {},
   "source": [
    "## b.\tFind the average city fuel economy across all cars.  \n",
    "###  find the average city fuel economy across all cars."
   ]
  },
  {
   "cell_type": "code",
   "execution_count": 40,
   "metadata": {},
   "outputs": [
    {
     "name": "stdout",
     "output_type": "stream",
     "text": [
      "The average city fuel economy is 16.86 mpg.\n"
     ]
    }
   ],
   "source": [
    "avgcty=sum(mpg['cty']) / (len(mpg)*1.0)\n",
    "print(f'The average city fuel economy is {avgcty:.2f} mpg.')"
   ]
  },
  {
   "cell_type": "markdown",
   "metadata": {},
   "source": [
    "## C.\tUse “set” to group the cars by the transmission types (‘trans’), and then find the average hwy mpg for each group."
   ]
  },
  {
   "cell_type": "markdown",
   "metadata": {},
   "source": [
    "### return the unique values for the number of transmission types the cars in our dataset have"
   ]
  },
  {
   "cell_type": "code",
   "execution_count": 19,
   "metadata": {
    "scrolled": true
   },
   "outputs": [
    {
     "name": "stdout",
     "output_type": "stream",
     "text": [
      "{'auto(s6)', 'auto(l4)', 'auto(l5)', 'auto(l6)', 'auto(s5)', 'auto(l3)', 'manual(m6)', 'manual(m5)', 'auto(av)', 'auto(s4)'}\n"
     ]
    },
    {
     "data": {
      "text/plain": [
       "set"
      ]
     },
     "execution_count": 19,
     "metadata": {},
     "output_type": "execute_result"
    }
   ],
   "source": [
    "transmissions_types = set(mpg['trans'])\n",
    "print(transmissions_types)\n",
    "type(transmissions_types)"
   ]
  },
  {
   "cell_type": "markdown",
   "metadata": {},
   "source": [
    "### grouping the cars by number of transmission types, and finding the average highway mpg for each group"
   ]
  },
  {
   "cell_type": "code",
   "execution_count": 39,
   "metadata": {
    "scrolled": true
   },
   "outputs": [
    {
     "name": "stdout",
     "output_type": "stream",
     "text": [
      "Answer 1:\n",
      "('auto(s6)', 25.1875)\n",
      "('auto(l4)', 21.96385542168675)\n",
      "('auto(l5)', 20.71794871794872)\n",
      "('auto(l6)', 20.0)\n",
      "('auto(s5)', 25.333333333333332)\n",
      "('auto(l3)', 27.0)\n",
      "('manual(m6)', 24.210526315789473)\n",
      "('manual(m5)', 26.29310344827586)\n",
      "('auto(av)', 27.8)\n",
      "('auto(s4)', 25.666666666666668)\n",
      " \n",
      " Here is the list of the transmission types and their average mpg's: \n",
      "('auto(av)', 27.8)\n",
      "('auto(l3)', 27.0)\n",
      "('auto(l4)', 21.96385542168675)\n",
      "('auto(l5)', 20.71794871794872)\n",
      "('auto(l6)', 20.0)\n",
      "('auto(s4)', 25.666666666666668)\n",
      "('auto(s5)', 25.333333333333332)\n",
      "('auto(s6)', 25.1875)\n",
      "('manual(m5)', 26.29310344827586)\n",
      "('manual(m6)', 24.210526315789473)\n"
     ]
    }
   ],
   "source": [
    "HwyMpgByCyl = []\n",
    "trans_typ = mpg['trans']\n",
    "hwympg = mpg['hwy']\n",
    "\n",
    "for t in transmissions_types: # iterate over all the cylinder numbers\n",
    "    summpg = 0\n",
    "    trans_count = 0\n",
    "    for i in range(0, len(mpg), 1): # iterate over all cars\n",
    "        if trans_typ[i] == t: # if the cylinder number matches,\n",
    "            summpg += hwympg[i] # add the cty mpg\n",
    "            trans_count += 1 # increment the count\n",
    "    HwyMpgByCyl.append((t, summpg / trans_count)) # append the list ('cylinder number', 'avg mpg')\n",
    "\n",
    "print(f'Answer 1:', *HwyMpgByCyl, sep = \"\\n\")\n",
    "\n",
    "HwyMpgByCyl.sort(key=lambda x: x[0])\n",
    "print(f' \\n Here is the list of the transmission types and their average mpg\\'s: ', *HwyMpgByCyl, sep = \"\\n\")"
   ]
  },
  {
   "cell_type": "markdown",
   "metadata": {},
   "source": [
    "### d.\tUse “set” to group the cars by the car classification (‘class’), and then find the average cty mpg for each group."
   ]
  },
  {
   "cell_type": "code",
   "execution_count": 32,
   "metadata": {},
   "outputs": [
    {
     "name": "stdout",
     "output_type": "stream",
     "text": [
      "{'suv', '2seater', 'compact', 'subcompact', 'minivan', 'pickup', 'midsize'}\n"
     ]
    },
    {
     "data": {
      "text/plain": [
       "set"
      ]
     },
     "execution_count": 32,
     "metadata": {},
     "output_type": "execute_result"
    }
   ],
   "source": [
    "classification = set(mpg['class'])\n",
    "print(classification)\n",
    "type(classification)"
   ]
  },
  {
   "cell_type": "markdown",
   "metadata": {},
   "source": [
    "### grouping the cars by number of tclassification of cars, and finding the average city mpg for each group"
   ]
  },
  {
   "cell_type": "code",
   "execution_count": 33,
   "metadata": {},
   "outputs": [
    {
     "name": "stdout",
     "output_type": "stream",
     "text": [
      "Answer 1:\n",
      "('suv', 13.5)\n",
      "('2seater', 15.4)\n",
      "('compact', 20.127659574468087)\n",
      "('subcompact', 20.37142857142857)\n",
      "('minivan', 15.818181818181818)\n",
      "('pickup', 13.0)\n",
      "('midsize', 18.75609756097561)\n",
      " \n",
      " Here is the list of the classification of cars and their average city mpg's: \n",
      "('2seater', 15.4)\n",
      "('compact', 20.127659574468087)\n",
      "('midsize', 18.75609756097561)\n",
      "('minivan', 15.818181818181818)\n",
      "('pickup', 13.0)\n",
      "('subcompact', 20.37142857142857)\n",
      "('suv', 13.5)\n"
     ]
    }
   ],
   "source": [
    "CtyMpgByCyl = []\n",
    "class_list = mpg['class']\n",
    "ctympg = mpg['cty']\n",
    "\n",
    "for c in classification: # iterate over all the cylinder numbers\n",
    "    summpg = 0\n",
    "    class_count = 0\n",
    "    for i in range(0, len(mpg), 1): # iterate over all cars\n",
    "        if class_list[i] == c: # if the cylinder number matches,\n",
    "            summpg += ctympg[i] # add the cty mpg\n",
    "            class_count += 1 # increment the count\n",
    "    CtyMpgByCyl.append((c, summpg / class_count)) # append the list ('cylinder number', 'avg mpg')\n",
    "\n",
    "print(f'Answer 1:', *CtyMpgByCyl, sep = \"\\n\")\n",
    "    \n",
    "CtyMpgByCyl.sort(key=lambda x: x[0])\n",
    "print(f' \\n Here is the list of the classification of cars and their average city mpg\\'s: ', *CtyMpgByCyl, sep = \"\\n\")"
   ]
  }
 ],
 "metadata": {
  "kernelspec": {
   "display_name": "Python 3",
   "language": "python",
   "name": "python3"
  },
  "language_info": {
   "codemirror_mode": {
    "name": "ipython",
    "version": 3
   },
   "file_extension": ".py",
   "mimetype": "text/x-python",
   "name": "python",
   "nbconvert_exporter": "python",
   "pygments_lexer": "ipython3",
   "version": "3.7.3"
  }
 },
 "nbformat": 4,
 "nbformat_minor": 2
}
